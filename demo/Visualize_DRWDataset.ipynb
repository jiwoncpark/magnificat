{
 "cells": [
  {
   "cell_type": "code",
   "execution_count": 4,
   "metadata": {},
   "outputs": [],
   "source": [
    "import numpy as np\n",
    "import matplotlib.pyplot as plt\n",
    "from magnificat.drw_dataset import DRWDataset\n",
    "from magnificat.samplers.dc2_sampler import DC2Sampler\n",
    "\n",
    "%matplotlib inline"
   ]
  },
  {
   "cell_type": "markdown",
   "metadata": {},
   "source": [
    "# Visualize DRWDataset\n",
    "\n",
    "__Author:__ Ji Won Park (@jiwoncpark)\n",
    "\n",
    "__Created:__ 8/09/2021\n",
    "\n",
    "__Last run:__ 8/09/2021"
   ]
  },
  {
   "cell_type": "markdown",
   "metadata": {},
   "source": [
    "We generate the dataset of DRW light curves in ugrizy."
   ]
  },
  {
   "cell_type": "code",
   "execution_count": 5,
   "metadata": {},
   "outputs": [
    {
     "name": "stderr",
     "output_type": "stream",
     "text": [
      "100%|█████████████████████████████████████████████████████████████████████████████████████████████████████████████████████████████████| 100/100 [00:01<00:00, 79.13it/s]\n"
     ]
    },
    {
     "name": "stdout",
     "output_type": "stream",
     "text": [
      "89 pointings were available.\n",
      "Trimmed MJD has 1606 out of 3650 days.\n"
     ]
    },
    {
     "name": "stderr",
     "output_type": "stream",
     "text": [
      "y, params: 100%|██████████████████████████████████████████████████████████████████████████████████████████████████████████████████████████| 5/5 [00:05<00:00,  1.00s/it]"
     ]
    },
    {
     "name": "stdout",
     "output_type": "stream",
     "text": [
      "[15, 16, 17, 18, 19, 20, 2, 3, 4, 5, 6, 7, 0, 1, 14, 8, 9, 10, 11, 12, 13]\n",
      "tensor([ 2.4158e+00,  2.4363e+00,  2.4560e+00,  2.4708e+00,  2.4816e+00,\n",
      "         2.4901e+00,  1.4619e-01,  9.0335e-02,  3.6804e-02, -3.6383e-03,\n",
      "        -3.3189e-02, -5.6285e-02,  7.6478e+00, -1.6543e+01,  3.4330e-01,\n",
      "         2.5386e+01,  2.5371e+01,  2.5181e+01,  2.5008e+01,  2.4533e+01,\n",
      "         2.4565e+01], dtype=torch.float64) tensor([0.2313, 0.2327, 0.2341, 0.2352, 0.2359, 0.2365, 0.1273, 0.1274, 0.1273,\n",
      "        0.1273, 0.1274, 0.1273, 0.3921, 1.0690, 0.0451, 1.1902, 1.1797, 1.2005,\n",
      "        1.2010, 1.2202, 1.1840], dtype=torch.float64)\n"
     ]
    },
    {
     "name": "stderr",
     "output_type": "stream",
     "text": [
      "\n"
     ]
    }
   ],
   "source": [
    "bandpasses = list('ugrizy')\n",
    "train_params = [f'tau_{bp}' for bp in bandpasses]\n",
    "train_params += [f'SF_inf_{bp}' for bp in bandpasses]\n",
    "train_params += ['BH_mass', 'M_i', 'redshift']\n",
    "train_params += [f'mag_{bp}' for bp in bandpasses]\n",
    "log_params = [True for bp in bandpasses]\n",
    "log_params += [True for bp in bandpasses]\n",
    "log_params += [False, False, False]\n",
    "log_params += [False for bp in bandpasses]\n",
    "n_pointings = 100\n",
    "\n",
    "train_seed = 123\n",
    "train_cat_idx = np.arange(5)  # 11227\n",
    "train_dataset = DRWDataset(DC2Sampler(train_seed, bandpasses, train_cat_idx),\n",
    "                           out_dir='train_drw',\n",
    "                           num_samples=len(train_cat_idx),\n",
    "                           seed=train_seed,\n",
    "                           n_pointings_init=n_pointings,\n",
    "                           is_training=True,\n",
    "                           shift_x=0.0,  # -3650*0.5,\n",
    "                           rescale_x=1.0,  # 1.0/(3650*0.5)*4.0,\n",
    "                           err_y=0.01)\n",
    "train_dataset.slice_params = [train_dataset.param_names.index(n) for n in train_params]\n",
    "train_dataset.log_params = log_params\n",
    "train_dataset.get_normalizing_metadata(set_metadata=True)\n",
    "print(train_dataset.slice_params)\n",
    "print(train_dataset.mean_params, train_dataset.std_params)"
   ]
  },
  {
   "cell_type": "code",
   "execution_count": 15,
   "metadata": {},
   "outputs": [
    {
     "data": {
      "text/plain": [
       "<matplotlib.legend.Legend at 0x7efc509bd460>"
      ]
     },
     "execution_count": 15,
     "metadata": {},
     "output_type": "execute_result"
    },
    {
     "data": {
      "image/png": "[encoded data removed]",
      "text/plain": [
       "<Figure size 432x288 with 1 Axes>"
      ]
     },
     "metadata": {
      "needs_background": "light"
     },
     "output_type": "display_data"
    }
   ],
   "source": [
    "data = train_dataset[0]\n",
    "color_dict = dict(zip(list('ugrizy'), ['magenta', 'tab:blue', 'tab:green', 'yellow', 'tab:orange', 'tab:red']))\n",
    "for bp_i, bp in zip(train_dataset.bandpasses_int, train_dataset.bandpasses):\n",
    "    plt.plot((data['x'])[data['trimmed_mask'][:, bp_i]].numpy(), \n",
    "             (data['y'])[data['trimmed_mask'][:, bp_i], bp_i].numpy(), \n",
    "             marker='.', linewidth=0, color=color_dict[bp], label=bp)\n",
    "plt.gca().invert_yaxis()\n",
    "plt.xlabel('MJD')\n",
    "plt.ylabel('mag')\n",
    "plt.legend()"
   ]
  },
  {
   "cell_type": "code",
   "execution_count": null,
   "metadata": {},
   "outputs": [],
   "source": []
  }
 ],
 "metadata": {
  "kernelspec": {
   "display_name": "Python (n2j)",
   "language": "python",
   "name": "n2j"
  },
  "language_info": {
   "codemirror_mode": {
    "name": "ipython",
    "version": 3
   },
   "file_extension": ".py",
   "mimetype": "text/x-python",
   "name": "python",
   "nbconvert_exporter": "python",
   "pygments_lexer": "ipython3",
   "version": "3.8.10"
  }
 },
 "nbformat": 4,
 "nbformat_minor": 2
}
